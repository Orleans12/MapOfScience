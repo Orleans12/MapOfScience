{
 "cells": [
  {
   "cell_type": "markdown",
   "id": "4b34ea40",
   "metadata": {},
   "source": [
    "# MapOfScience Covid-19"
   ]
  },
  {
   "cell_type": "code",
   "execution_count": 83,
   "id": "58e9759a",
   "metadata": {},
   "outputs": [],
   "source": [
    "import re\n",
    "import csv\n",
    "import itertools"
   ]
  },
  {
   "cell_type": "code",
   "execution_count": 85,
   "id": "a7d2a5c8",
   "metadata": {},
   "outputs": [],
   "source": [
    "with open('pubmed-SARS-CoV2m-set.txt', encoding=\"utf8\") as f:\n",
    "    info = f.read()"
   ]
  },
  {
   "cell_type": "code",
   "execution_count": 86,
   "id": "831fbe9f",
   "metadata": {},
   "outputs": [],
   "source": [
    "info = re.sub(r'\\n\\s{6}', ' ', info)"
   ]
  },
  {
   "cell_type": "code",
   "execution_count": 87,
   "id": "92a2287b",
   "metadata": {},
   "outputs": [
    {
     "name": "stdout",
     "output_type": "stream",
     "text": [
      "PMID- 32970329\n",
      "OWN - NLM\n",
      "STAT- MEDLINE\n",
      "DCOM- 20210302\n",
      "LR  - 20210302\n",
      "IS  - 1096-9071 (Electronic)\n",
      "IS  - 0146-6615 (Print)\n",
      "IS  - 0146-6615 (Linking)\n",
      "VI  - 93\n",
      "IP  - 3\n",
      "DP  - 2021 Mar\n",
      "TI  - Genomic and proteomic mutation landscapes of SARS-CoV-2.\n",
      "PG  - 1702-1721\n",
      "LID - 10.1002/jmv.26548 [doi]\n",
      "AB  - The ongoing pandemic caused by a novel coronavirus, Severe Acute Respiratory  Syndrome Coronavirus 2 (SARS-CoV-2), affects thousands of people every day  worldwide. Hence, drugs and vaccines effective against all variants of SARS-CoV-2  are crucial today. Viral genome mutations exist commonly which may impact the  encoded proteins, possibly resulting to varied effectivity of detection tools and  disease treatment. Thus, this study surveyed the SARS-CoV-2 genome and proteome and  evaluated its mutation characteristics. Phylogenetic analyses of SARS-CoV-2 genes  and proteins show three major clades and one minor clade (P6810S; ORF1ab). The  overall frequency and densities of mutations in the genes and proteins of SARS-CoV-2  were observed. Nucleocapsid exhibited the highest mutation density among the  structural proteins while the spike D614G was the most common, occurring mostly in  genomes outside China and United States. ORF8 protein had the highest mutation  density across all geographical areas. Moreover, mutation hotspots neighboring and  at the catalytic site of RNA-dependent RNA polymerase were found that might  challenge the binding and effectivity of remdesivir. Mutation coldspots may present  as conserved diagnostic and therapeutic targets were found in ORF7b, ORF9b, and  ORF14. These findings suggest that the virion's genotype and phenotype in a specific  population should be considered in developing diagnostic tools and treatment  options.\n",
      "CI  - © 2020 Wiley Periodicals LLC.\n",
      "FAU - Badua, Christian Luke D C\n",
      "AU  - Badua CLDC\n",
      "AUID- ORCID: 0000-0002-1114-1322\n",
      "AD  - Department of Biochemistry and Molecular Biology, Biological Models Laboratory,  University of the Philipp\n"
     ]
    }
   ],
   "source": [
    "print(info[:2000])"
   ]
  },
  {
   "cell_type": "code",
   "execution_count": 88,
   "id": "7d7937fe",
   "metadata": {},
   "outputs": [
    {
     "data": {
      "text/plain": [
       "['',\n",
       " 'Philippines',\n",
       " 'Italy',\n",
       " 'USA',\n",
       " ' Switzerland',\n",
       " 'Switzerland',\n",
       " 'Germany',\n",
       " 'Serbia',\n",
       " 'Greece',\n",
       " 'Japan',\n",
       " \"People's Republic of China\",\n",
       " \"People's Republic of  China\",\n",
       " 'Spain',\n",
       " 'China',\n",
       " 'Saudi  Arabia',\n",
       " 'Sudan',\n",
       " 'UK',\n",
       " 'South Africa',\n",
       " 'United States',\n",
       " 'Canada',\n",
       " 'India',\n",
       " ' India',\n",
       " 'Republic of Korea',\n",
       " 'Taiwan',\n",
       " 'France',\n",
       " 'Belgium',\n",
       " 'Sweden',\n",
       " 'SEMERGEN',\n",
       " 'Uruguay',\n",
       " 'South  Africa',\n",
       " 'Chapel Hill (M.S.C',\n",
       " 'Ireland',\n",
       " 'United States of America',\n",
       " 'Israel',\n",
       " 'Iran',\n",
       " 'Maldives',\n",
       " 'P.R. China',\n",
       " 'Pakistan',\n",
       " 'Kuwait',\n",
       " 'P.R.  China']"
      ]
     },
     "execution_count": 88,
     "metadata": {},
     "output_type": "execute_result"
    }
   ],
   "source": [
    "codes = re.findall(r'AD.+, (.+[a-z-A-Z]).  ?Electronic|AD.+, (.+[a-z-A-Z]).  [^\\s<>\"]+@[^\\s<>\"]+|AD.+, (.+[a-z-A-Z]). [^\\s<>\"]+@[^\\s<>\"]+|AD.+,  ?(.+[a-z-A-Z]).?|', info)\n",
    "\n",
    "basic_list = itertools.chain(*codes)\n",
    "basic_list=list(basic_list)\n",
    "basic_list\n",
    "\n",
    "FR_List = [] \n",
    "for element in basic_list:\n",
    "    if element not in FR_List:\n",
    "        FR_List.append(element)\n",
    "\n",
    "FR_List[:40]"
   ]
  },
  {
   "cell_type": "code",
   "execution_count": 89,
   "id": "aaf1cb22",
   "metadata": {},
   "outputs": [
    {
     "data": {
      "text/plain": [
       "['',\n",
       " ' Australia',\n",
       " ' Austria',\n",
       " ' Bagalkot',\n",
       " ' Banglades',\n",
       " ' Bangladesh',\n",
       " ' Belgium',\n",
       " ' Brazil',\n",
       " ' CT 06520; brett.lindenbach@yale.ed',\n",
       " ' Cambridge, U']"
      ]
     },
     "execution_count": 89,
     "metadata": {},
     "output_type": "execute_result"
    }
   ],
   "source": [
    "unique_zipcodes = list(set(FR_List))\n",
    "unique_zipcodes.sort()\n",
    "unique_zipcodes[:10]"
   ]
  },
  {
   "cell_type": "code",
   "execution_count": 90,
   "id": "e8d47c16",
   "metadata": {},
   "outputs": [],
   "source": [
    "import pandas as pd\n",
    "import matplotlib.pyplot as plt"
   ]
  },
  {
   "cell_type": "code",
   "execution_count": 92,
   "id": "e25247cc",
   "metadata": {},
   "outputs": [
    {
     "data": {
      "text/html": [
       "<div>\n",
       "<style scoped>\n",
       "    .dataframe tbody tr th:only-of-type {\n",
       "        vertical-align: middle;\n",
       "    }\n",
       "\n",
       "    .dataframe tbody tr th {\n",
       "        vertical-align: top;\n",
       "    }\n",
       "\n",
       "    .dataframe thead th {\n",
       "        text-align: right;\n",
       "    }\n",
       "</style>\n",
       "<table border=\"1\" class=\"dataframe\">\n",
       "  <thead>\n",
       "    <tr style=\"text-align: right;\">\n",
       "      <th></th>\n",
       "      <th>country</th>\n",
       "      <th>latitude</th>\n",
       "      <th>longitude</th>\n",
       "      <th>name</th>\n",
       "    </tr>\n",
       "  </thead>\n",
       "  <tbody>\n",
       "    <tr>\n",
       "      <th>0</th>\n",
       "      <td>AD</td>\n",
       "      <td>42.546245</td>\n",
       "      <td>1.601554</td>\n",
       "      <td>Andorra</td>\n",
       "    </tr>\n",
       "    <tr>\n",
       "      <th>1</th>\n",
       "      <td>AE</td>\n",
       "      <td>23.424076</td>\n",
       "      <td>53.847818</td>\n",
       "      <td>United Arab Emirates</td>\n",
       "    </tr>\n",
       "    <tr>\n",
       "      <th>2</th>\n",
       "      <td>AF</td>\n",
       "      <td>33.939110</td>\n",
       "      <td>67.709953</td>\n",
       "      <td>Afghanistan</td>\n",
       "    </tr>\n",
       "    <tr>\n",
       "      <th>3</th>\n",
       "      <td>AG</td>\n",
       "      <td>17.060816</td>\n",
       "      <td>-61.796428</td>\n",
       "      <td>Antigua and Barbuda</td>\n",
       "    </tr>\n",
       "    <tr>\n",
       "      <th>4</th>\n",
       "      <td>AI</td>\n",
       "      <td>18.220554</td>\n",
       "      <td>-63.068615</td>\n",
       "      <td>Anguilla</td>\n",
       "    </tr>\n",
       "    <tr>\n",
       "      <th>5</th>\n",
       "      <td>AL</td>\n",
       "      <td>41.153332</td>\n",
       "      <td>20.168331</td>\n",
       "      <td>Albania</td>\n",
       "    </tr>\n",
       "  </tbody>\n",
       "</table>\n",
       "</div>"
      ],
      "text/plain": [
       "  country   latitude  longitude                  name\n",
       "0      AD  42.546245   1.601554               Andorra\n",
       "1      AE  23.424076  53.847818  United Arab Emirates\n",
       "2      AF  33.939110  67.709953           Afghanistan\n",
       "3      AG  17.060816 -61.796428   Antigua and Barbuda\n",
       "4      AI  18.220554 -63.068615              Anguilla\n",
       "5      AL  41.153332  20.168331               Albania"
      ]
     },
     "execution_count": 92,
     "metadata": {},
     "output_type": "execute_result"
    }
   ],
   "source": [
    "local = pd.read_csv('countries.csv', engine='python', skipfooter=3)\n",
    "local.head(6)"
   ]
  },
  {
   "cell_type": "code",
   "execution_count": 93,
   "id": "b339eb90",
   "metadata": {},
   "outputs": [
    {
     "data": {
      "text/html": [
       "<div>\n",
       "<style scoped>\n",
       "    .dataframe tbody tr th:only-of-type {\n",
       "        vertical-align: middle;\n",
       "    }\n",
       "\n",
       "    .dataframe tbody tr th {\n",
       "        vertical-align: top;\n",
       "    }\n",
       "\n",
       "    .dataframe thead th {\n",
       "        text-align: right;\n",
       "    }\n",
       "</style>\n",
       "<table border=\"1\" class=\"dataframe\">\n",
       "  <thead>\n",
       "    <tr style=\"text-align: right;\">\n",
       "      <th></th>\n",
       "      <th>country</th>\n",
       "      <th>latitude</th>\n",
       "      <th>longitude</th>\n",
       "      <th>name</th>\n",
       "    </tr>\n",
       "  </thead>\n",
       "  <tbody>\n",
       "    <tr>\n",
       "      <th>1</th>\n",
       "      <td>AE</td>\n",
       "      <td>23.424076</td>\n",
       "      <td>53.847818</td>\n",
       "      <td>United Arab Emirates</td>\n",
       "    </tr>\n",
       "    <tr>\n",
       "      <th>2</th>\n",
       "      <td>AF</td>\n",
       "      <td>33.939110</td>\n",
       "      <td>67.709953</td>\n",
       "      <td>Afghanistan</td>\n",
       "    </tr>\n",
       "    <tr>\n",
       "      <th>5</th>\n",
       "      <td>AL</td>\n",
       "      <td>41.153332</td>\n",
       "      <td>20.168331</td>\n",
       "      <td>Albania</td>\n",
       "    </tr>\n",
       "    <tr>\n",
       "      <th>6</th>\n",
       "      <td>AM</td>\n",
       "      <td>40.069099</td>\n",
       "      <td>45.038189</td>\n",
       "      <td>Armenia</td>\n",
       "    </tr>\n",
       "    <tr>\n",
       "      <th>10</th>\n",
       "      <td>AR</td>\n",
       "      <td>-38.416097</td>\n",
       "      <td>-63.616672</td>\n",
       "      <td>Argentina</td>\n",
       "    </tr>\n",
       "    <tr>\n",
       "      <th>12</th>\n",
       "      <td>AT</td>\n",
       "      <td>47.516231</td>\n",
       "      <td>14.550072</td>\n",
       "      <td>Austria</td>\n",
       "    </tr>\n",
       "    <tr>\n",
       "      <th>13</th>\n",
       "      <td>AU</td>\n",
       "      <td>-25.274398</td>\n",
       "      <td>133.775136</td>\n",
       "      <td>Australia</td>\n",
       "    </tr>\n",
       "    <tr>\n",
       "      <th>15</th>\n",
       "      <td>AZ</td>\n",
       "      <td>40.143105</td>\n",
       "      <td>47.576927</td>\n",
       "      <td>Azerbaijan</td>\n",
       "    </tr>\n",
       "    <tr>\n",
       "      <th>16</th>\n",
       "      <td>BA</td>\n",
       "      <td>43.915886</td>\n",
       "      <td>17.679076</td>\n",
       "      <td>Bosnia and Herzegovina</td>\n",
       "    </tr>\n",
       "    <tr>\n",
       "      <th>18</th>\n",
       "      <td>BD</td>\n",
       "      <td>23.684994</td>\n",
       "      <td>90.356331</td>\n",
       "      <td>Bangladesh</td>\n",
       "    </tr>\n",
       "  </tbody>\n",
       "</table>\n",
       "</div>"
      ],
      "text/plain": [
       "   country   latitude   longitude                    name\n",
       "1       AE  23.424076   53.847818    United Arab Emirates\n",
       "2       AF  33.939110   67.709953             Afghanistan\n",
       "5       AL  41.153332   20.168331                 Albania\n",
       "6       AM  40.069099   45.038189                 Armenia\n",
       "10      AR -38.416097  -63.616672               Argentina\n",
       "12      AT  47.516231   14.550072                 Austria\n",
       "13      AU -25.274398  133.775136               Australia\n",
       "15      AZ  40.143105   47.576927              Azerbaijan\n",
       "16      BA  43.915886   17.679076  Bosnia and Herzegovina\n",
       "18      BD  23.684994   90.356331              Bangladesh"
      ]
     },
     "execution_count": 93,
     "metadata": {},
     "output_type": "execute_result"
    }
   ],
   "source": [
    "local = local[local.name.isin(FR_List)]\n",
    "local.head(10)"
   ]
  },
  {
   "cell_type": "code",
   "execution_count": 94,
   "id": "72878539",
   "metadata": {},
   "outputs": [],
   "source": [
    "ubication =pd.concat([local]).drop_duplicates().sort_values('name')"
   ]
  },
  {
   "cell_type": "code",
   "execution_count": 95,
   "id": "c8c7888f",
   "metadata": {},
   "outputs": [
    {
     "data": {
      "image/png": "[encoded data removed]",
      "text/plain": [
       "<Figure size 1296x864 with 1 Axes>"
      ]
     },
     "metadata": {
      "needs_background": "light"
     },
     "output_type": "display_data"
    }
   ],
   "source": [
    "plt.scatter(ubication.longitude, ubication.latitude, s=50, c=ubication.latitude)\n",
    "\n",
    "ard = dict(arrowstyle=\"->\")\n",
    "plt.annotate('USA', xy = (-95.712891, 37.09024), \n",
    "               xytext = (-95.712891, 40), arrowprops = ard,color = 'tab:blue')\n",
    "plt.annotate('UKRAINE', xy = (31.16558,48.379433), \n",
    "               xytext = (31.16558,51), arrowprops= ard,color = 'tab:green')\n",
    "plt.annotate('BRAZIL', xy = (-51.92528, -14.235004), \n",
    "               xytext = (-51.92528, -11), arrowprops= ard,color = 'tab:grey')\n",
    "plt.annotate('CHINA', xy = (104.195397, 35.86166), \n",
    "               xytext = (104.195397, 39), arrowprops= ard,color = 'tab:orange')\n",
    "plt.annotate('AUSTRALIA', xy = (133.775136, -25.274398), \n",
    "               xytext = (133.775136, -22), arrowprops= ard,color = 'tab:pink')\n",
    "plt.annotate('NORWAY', xy = (8.468946, 60.472024), \n",
    "               xytext = (8.468946, 63), arrowprops= ard,color = 'tab:red')\n",
    "\n",
    "params = plt.gcf()\n",
    "plSize = params.get_size_inches()\n",
    "params.set_size_inches( (plSize[0] * 3, plSize[1] * 3) )"
   ]
  },
  {
   "cell_type": "code",
   "execution_count": null,
   "id": "5f17f8bc",
   "metadata": {},
   "outputs": [],
   "source": []
  }
 ],
 "metadata": {
  "kernelspec": {
   "display_name": "Python 3",
   "language": "python",
   "name": "python3"
  },
  "language_info": {
   "codemirror_mode": {
    "name": "ipython",
    "version": 3
   },
   "file_extension": ".py",
   "mimetype": "text/x-python",
   "name": "python",
   "nbconvert_exporter": "python",
   "pygments_lexer": "ipython3",
   "version": "3.8.8"
  }
 },
 "nbformat": 4,
 "nbformat_minor": 5
}
