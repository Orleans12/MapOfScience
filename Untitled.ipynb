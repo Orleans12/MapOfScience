{
 "cells": [
  {
   "cell_type": "markdown",
   "id": "35474ca2",
   "metadata": {},
   "source": [
    "# MapOfScience Covid-19"
   ]
  },
  {
   "cell_type": "code",
   "execution_count": 77,
   "id": "250bcb21",
   "metadata": {},
   "outputs": [],
   "source": [
    "import re\n",
    "import csv"
   ]
  },
  {
   "cell_type": "code",
   "execution_count": 78,
   "id": "417d6a6a",
   "metadata": {},
   "outputs": [],
   "source": [
    "with open(r'C:\\Users\\DELL\\Desktop\\Semestre 6\\Bioinformática\\MapOfScience\\pubmed-SARS-CoV2m-set.txt', \"r\") as archivo:\n",
    "    my_text = archivo.read"
   ]
  },
  {
   "cell_type": "code",
   "execution_count": 82,
   "id": "d68cebca",
   "metadata": {},
   "outputs": [
    {
     "ename": "SyntaxError",
     "evalue": "invalid syntax (<ipython-input-82-d0de8b637460>, line 5)",
     "output_type": "error",
     "traceback": [
      "\u001b[1;36m  File \u001b[1;32m\"<ipython-input-82-d0de8b637460>\"\u001b[1;36m, line \u001b[1;32m5\u001b[0m\n\u001b[1;33m    \"metadata\": {}\u001b[0m\n\u001b[1;37m              ^\u001b[0m\n\u001b[1;31mSyntaxError\u001b[0m\u001b[1;31m:\u001b[0m invalid syntax\n"
     ]
    }
   ],
   "source": []
  },
  {
   "cell_type": "code",
   "execution_count": null,
   "id": "056ae3a7",
   "metadata": {},
   "outputs": [],
   "source": []
  },
  {
   "cell_type": "code",
   "execution_count": null,
   "id": "3028b829",
   "metadata": {},
   "outputs": [],
   "source": []
  }
 ],
 "metadata": {
  "kernelspec": {
   "display_name": "Python 3",
   "language": "python",
   "name": "python3"
  },
  "language_info": {
   "codemirror_mode": {
    "name": "ipython",
    "version": 3
   },
   "file_extension": ".py",
   "mimetype": "text/x-python",
   "name": "python",
   "nbconvert_exporter": "python",
   "pygments_lexer": "ipython3",
   "version": "3.8.8"
  }
 },
 "nbformat": 4,
 "nbformat_minor": 5
}
